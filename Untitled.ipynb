{
 "cells": [
  {
   "cell_type": "code",
   "execution_count": 1,
   "id": "2dd3bc75",
   "metadata": {},
   "outputs": [
    {
     "name": "stdout",
     "output_type": "stream",
     "text": [
      "Hello\n"
     ]
    }
   ],
   "source": [
    "print(\"Hello\")"
   ]
  },
  {
   "cell_type": "code",
   "execution_count": 15,
   "id": "e779c05b",
   "metadata": {},
   "outputs": [],
   "source": [
    "products = [\"t-shirt\", \"mug\", \"hat\", \"book\", \"keychain\"]"
   ]
  },
  {
   "cell_type": "code",
   "execution_count": 16,
   "id": "faad3972",
   "metadata": {},
   "outputs": [],
   "source": [
    "inventory = {}"
   ]
  },
  {
   "cell_type": "code",
   "execution_count": 17,
   "id": "eaeeb44f",
   "metadata": {},
   "outputs": [
    {
     "name": "stdout",
     "output_type": "stream",
     "text": [
      "Enter the quantity for t-shirt: 1\n",
      "Enter the quantity for mug: 2\n",
      "Enter the quantity for hat: 3\n",
      "Enter the quantity for book: 4\n",
      "Enter the quantity for keychain: 5\n"
     ]
    }
   ],
   "source": [
    "for product in products:\n",
    "    order = int (input(f\"Enter the quantity for {product}: \"))\n",
    "    inventory[product] = order"
   ]
  },
  {
   "cell_type": "code",
   "execution_count": 21,
   "id": "b916b2d9",
   "metadata": {},
   "outputs": [],
   "source": [
    "customer_orders = set()\n"
   ]
  },
  {
   "cell_type": "code",
   "execution_count": null,
   "id": "946c191c",
   "metadata": {},
   "outputs": [],
   "source": [
    "\n",
    "for i in range(3):\n",
    "    while True:\n",
    "        item = input(\"Please add an item:\").lower()\n",
    "        if item in products:\n",
    "            customer_orders.add(item)\n",
    "            break\n",
    "        else:\n",
    "            print(\"error\")\n",
    "            \n",
    "print(customer_orders)"
   ]
  },
  {
   "cell_type": "code",
   "execution_count": null,
   "id": "a80fa072",
   "metadata": {},
   "outputs": [],
   "source": [
    "print(customer_orders)"
   ]
  },
  {
   "cell_type": "code",
   "execution_count": null,
   "id": "497db46a",
   "metadata": {},
   "outputs": [],
   "source": []
  }
 ],
 "metadata": {
  "kernelspec": {
   "display_name": "Python 3 (ipykernel)",
   "language": "python",
   "name": "python3"
  },
  "language_info": {
   "codemirror_mode": {
    "name": "ipython",
    "version": 3
   },
   "file_extension": ".py",
   "mimetype": "text/x-python",
   "name": "python",
   "nbconvert_exporter": "python",
   "pygments_lexer": "ipython3",
   "version": "3.11.5"
  }
 },
 "nbformat": 4,
 "nbformat_minor": 5
}
